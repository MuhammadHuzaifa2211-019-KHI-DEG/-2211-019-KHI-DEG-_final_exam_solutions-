{
 "cells": [
  {
   "cell_type": "code",
   "execution_count": 19,
   "id": "bc09684f-59a9-4b32-8fb8-bbf4324d1a69",
   "metadata": {},
   "outputs": [],
   "source": [
    "import pyspark\n",
    "from pyspark.sql import SparkSession\n",
    "from pyspark.sql.types import *\n",
    "from pyspark.sql.functions import *\n",
    "from pyspark.sql.streaming import StreamingQuery\n",
    "from pyspark.sql import SparkSession\n",
    "import pyspark.sql.functions as F\n",
    "import pyspark.sql.types as T\n",
    "from pyspark.sql.functions import *"
   ]
  },
  {
   "cell_type": "code",
   "execution_count": 20,
   "id": "ba2b7bcb-bbc4-4b99-8e86-a47025cb0279",
   "metadata": {},
   "outputs": [],
   "source": [
    "spark = (\n",
    "    SparkSession.builder.master(\"local[*]\")\n",
    "    .appName(\"Tutorial App\")\n",
    "    .config(\"spark.jars.packages\", \"org.apache.spark:spark-sql-kafka-0-10_2.12:3.3.1\")\n",
    "    .getOrCreate()\n",
    ")"
   ]
  },
  {
   "cell_type": "code",
   "execution_count": 21,
   "id": "9afd8546-8222-4c55-a213-69d1396073e3",
   "metadata": {},
   "outputs": [],
   "source": [
    "read = spark.read \\\n",
    "                          .format(\"kafka\") \\\n",
    "                          .option(\"kafka.bootstrap.servers\", \"localhost:9092\") \\\n",
    "                          .option(\"subscribe\", \"topic_nested\")"
   ]
  },
  {
   "cell_type": "code",
   "execution_count": 22,
   "id": "d368955d-2d45-4ec0-ad86-9eb6a31f2e7d",
   "metadata": {},
   "outputs": [],
   "source": [
    "read = read.load()"
   ]
  },
  {
   "cell_type": "code",
   "execution_count": 23,
   "id": "4de697d0-7e64-4518-912c-93f5969d5880",
   "metadata": {},
   "outputs": [],
   "source": [
    "schema = StructType([\n",
    "    StructField(\"Timestamp\", StringType(), True),\n",
    "    StructField(\"string_columns\", StructType([\n",
    "        StructField(\"Name\", StringType(), True),\n",
    "        StructField(\"Sex\", StringType(), True),\n",
    "        StructField(\"Age\", StringType(), True),\n",
    "        StructField(\"Ticket\", StringType(), True),\n",
    "        StructField(\"Fare\", StringType(), True),\n",
    "        StructField(\"Cabin\", StringType(), True),\n",
    "        StructField(\"Embarked\", StringType(), True)\n",
    "    ]), True),\n",
    "    StructField(\"numeric_columns\", StructType([\n",
    "        StructField(\"PassengerId\", IntegerType(), True),\n",
    "        StructField(\"Survived\", IntegerType(), True),\n",
    "        StructField(\"Pclass\", IntegerType(), True),\n",
    "        StructField(\"SibSp\", IntegerType(), True),\n",
    "        StructField(\"Parch\", IntegerType(), True)\n",
    "    ]), True)\n",
    "])"
   ]
  },
  {
   "cell_type": "code",
   "execution_count": 24,
   "id": "4ece125d-ae1e-4490-a50c-bc3dcfa05913",
   "metadata": {},
   "outputs": [],
   "source": [
    "read = read.select(col(\"value\").cast(StringType()))"
   ]
  },
  {
   "cell_type": "code",
   "execution_count": 25,
   "id": "e82f8e45-68a3-47a6-aa5a-a44889f4a7e3",
   "metadata": {},
   "outputs": [],
   "source": [
    "read = read.withColumn(\"message_content\", F.from_json(F.col(\"value\").cast(\"string\"),schema))"
   ]
  },
  {
   "cell_type": "code",
   "execution_count": 26,
   "id": "07b5fc25-3a4b-4960-81a8-b6a5b2e122a7",
   "metadata": {},
   "outputs": [
    {
     "name": "stdout",
     "output_type": "stream",
     "text": [
      "root\n",
      " |-- value: string (nullable = true)\n",
      " |-- message_content: struct (nullable = true)\n",
      " |    |-- Timestamp: string (nullable = true)\n",
      " |    |-- string_columns: struct (nullable = true)\n",
      " |    |    |-- Name: string (nullable = true)\n",
      " |    |    |-- Sex: string (nullable = true)\n",
      " |    |    |-- Age: string (nullable = true)\n",
      " |    |    |-- Ticket: string (nullable = true)\n",
      " |    |    |-- Fare: string (nullable = true)\n",
      " |    |    |-- Cabin: string (nullable = true)\n",
      " |    |    |-- Embarked: string (nullable = true)\n",
      " |    |-- numeric_columns: struct (nullable = true)\n",
      " |    |    |-- PassengerId: integer (nullable = true)\n",
      " |    |    |-- Survived: integer (nullable = true)\n",
      " |    |    |-- Pclass: integer (nullable = true)\n",
      " |    |    |-- SibSp: integer (nullable = true)\n",
      " |    |    |-- Parch: integer (nullable = true)\n",
      "\n"
     ]
    }
   ],
   "source": [
    "read.printSchema()"
   ]
  },
  {
   "cell_type": "code",
   "execution_count": 27,
   "id": "3ee6e37e-e307-4fc2-b4b5-cea03d66dbe1",
   "metadata": {},
   "outputs": [],
   "source": [
    "df_denest = read.select(\n",
    "    col(\"message_content.Timestamp\").alias(\"Timestamp\"),\n",
    "    col(\"message_content.string_columns.Name\").alias(\"Name\"),\n",
    "    col(\"message_content.string_columns.Sex\").alias(\"Sex\"),\n",
    "    col(\"message_content.string_columns.Age\").alias(\"Age\"),\n",
    "    col(\"message_content.string_columns.Ticket\").alias(\"Ticket\"),\n",
    "    col(\"message_content.string_columns.Fare\").alias(\"Fare\"),\n",
    "    col(\"message_content.string_columns.Cabin\").alias(\"Cabin\"),\n",
    "    col(\"message_content.string_columns.Embarked\").alias(\"Embarked\"),\n",
    "    col(\"message_content.numeric_columns.PassengerId\").alias(\"PassengerId\"),\n",
    "    col(\"message_content.numeric_columns.Survived\").alias(\"Survived\"),\n",
    "    col(\"message_content.numeric_columns.Pclass\").alias(\"Pclass\"),\n",
    "    col(\"message_content.numeric_columns.SibSp\").alias(\"SibSp\"),\n",
    "    col(\"message_content.numeric_columns.Parch\").alias(\"Parch\")\n",
    ")"
   ]
  },
  {
   "cell_type": "code",
   "execution_count": 35,
   "id": "2c4b014e-0bf7-4961-8ffc-7bed9d21db66",
   "metadata": {},
   "outputs": [
    {
     "name": "stdout",
     "output_type": "stream",
     "text": [
      "root\n",
      " |-- Timestamp: string (nullable = true)\n",
      " |-- Name: string (nullable = true)\n",
      " |-- Sex: string (nullable = true)\n",
      " |-- Age: string (nullable = true)\n",
      " |-- Ticket: string (nullable = true)\n",
      " |-- Fare: string (nullable = true)\n",
      " |-- Cabin: string (nullable = true)\n",
      " |-- Embarked: string (nullable = true)\n",
      " |-- PassengerId: integer (nullable = true)\n",
      " |-- Survived: integer (nullable = true)\n",
      " |-- Pclass: integer (nullable = true)\n",
      " |-- SibSp: integer (nullable = true)\n",
      " |-- Parch: integer (nullable = true)\n",
      "\n"
     ]
    }
   ],
   "source": [
    "df_denest.printSchema()"
   ]
  },
  {
   "cell_type": "code",
   "execution_count": 37,
   "id": "88e4bd98-b4db-49f1-a592-a81f514ecbeb",
   "metadata": {},
   "outputs": [
    {
     "name": "stdout",
     "output_type": "stream",
     "text": [
      "+--------------------+--------------------+------+----+----------------+-------+-----+--------+-----------+--------+------+-----+-----+\n",
      "|           Timestamp|                Name|   Sex| Age|          Ticket|   Fare|Cabin|Embarked|PassengerId|Survived|Pclass|SibSp|Parch|\n",
      "+--------------------+--------------------+------+----+----------------+-------+-----+--------+-----------+--------+------+-----+-----+\n",
      "|2020-01-01T13:45:...|Braund, Mr. Owen ...|  male|  22|       A/5 21171|   7.25| null|       S|          1|       0|     3|    1|    0|\n",
      "|2020-01-01T13:44:...|Cumings, Mrs. Joh...|female|  38|        PC 17599|71.2833|  C85|       C|          2|       1|     1|    1|    0|\n",
      "|2020-01-01T13:38:...|Heikkinen, Miss. ...|female|  26|STON/O2. 3101282|  7.925| null|       S|          3|       1|     3|    0|    0|\n",
      "|2020-01-01T13:32:...|Futrelle, Mrs. Ja...|female|  35|          113803|   53.1| C123|       S|          4|       1|     1|    1|    0|\n",
      "|2020-01-01T13:36:...|Allen, Mr. Willia...|  male|  35|          373450|   8.05| null|       S|          5|       0|     3|    0|    0|\n",
      "|2020-01-01T13:31:...|    Moran, Mr. James|  male|null|          330877| 8.4583| null|       Q|          6|       0|     3|    0|    0|\n",
      "|2020-01-01T13:37:...|McCarthy, Mr. Tim...|  male|  54|           17463|51.8625|  E46|       S|          7|       0|     1|    0|    0|\n",
      "|2020-01-01T13:49:...|Palsson, Master. ...|  male|   2|          349909| 21.075| null|       S|          8|       0|     3|    3|    1|\n",
      "|2020-01-01T13:33:...|Johnson, Mrs. Osc...|female|  27|          347742|11.1333| null|       S|          9|       1|     3|    0|    2|\n",
      "|2020-01-01T13:32:...|Nasser, Mrs. Nich...|female|  14|          237736|30.0708| null|       C|         10|       1|     2|    1|    0|\n",
      "+--------------------+--------------------+------+----+----------------+-------+-----+--------+-----------+--------+------+-----+-----+\n",
      "only showing top 10 rows\n",
      "\n"
     ]
    }
   ],
   "source": [
    "df_denest.show(10)"
   ]
  },
  {
   "cell_type": "code",
   "execution_count": 38,
   "id": "75fa0d25-1321-41e3-ab32-f6a384b887c1",
   "metadata": {},
   "outputs": [],
   "source": [
    "df= df_denest.dropDuplicates()"
   ]
  },
  {
   "cell_type": "code",
   "execution_count": 39,
   "id": "b030a971-5019-4766-ab5c-f27425334e62",
   "metadata": {},
   "outputs": [
    {
     "name": "stdout",
     "output_type": "stream",
     "text": [
      "+--------------------+--------------------+----+----+------------------+-------+-------+--------+-----------+--------+------+-----+-----+\n",
      "|           Timestamp|                Name| Sex| Age|            Ticket|   Fare|  Cabin|Embarked|PassengerId|Survived|Pclass|SibSp|Parch|\n",
      "+--------------------+--------------------+----+----+------------------+-------+-------+--------+-----------+--------+------+-----+-----+\n",
      "|2020-01-01T13:30:...|Moubarek, Master....|male|null|              2661|15.2458|   null|       C|         66|       1|     3|    1|    1|\n",
      "|2020-01-01T13:45:...|Caldwell, Master....|male|   0|            248738|   29.0|   null|       S|         79|       1|     2|    0|    2|\n",
      "|2020-01-01T13:35:...|      Ali, Mr. Ahmed|male|  24|SOTON/O.Q. 3101311|   7.05|   null|       S|        211|       0|     3|    0|    0|\n",
      "|2020-01-01T13:43:...|Stead, Mr. Willia...|male|  62|            113514|  26.55|    C87|       S|        253|       0|     1|    0|    0|\n",
      "|2020-01-01T13:30:...|Allison, Master. ...|male|   0|            113781| 151.55|C22 C26|       S|        306|       1|     1|    1|    2|\n",
      "|2020-01-01T13:42:...|Carlsson, Mr. Aug...|male|  28|            350042| 7.7958|   null|       S|        757|       0|     3|    0|    0|\n",
      "|2020-01-01T13:35:...|Gill, Mr. John Wi...|male|  24|            233866|   13.0|   null|       S|        865|       0|     2|    0|    0|\n",
      "|2020-01-01T13:46:...|Lefebre, Master. ...|male|null|              4133|25.4667|   null|       S|        177|       0|     3|    3|    1|\n",
      "|2020-01-01T13:48:...|Stanley, Mr. Edwa...|male|  21|         A/4 45380|   8.05|   null|       S|        495|       0|     3|    0|    0|\n",
      "|2020-01-01T13:48:...|  Harris, Mr. George|male|  62|       S.W./PP 752|   10.5|   null|       S|        571|       1|     2|    0|    0|\n",
      "+--------------------+--------------------+----+----+------------------+-------+-------+--------+-----------+--------+------+-----+-----+\n",
      "only showing top 10 rows\n",
      "\n"
     ]
    }
   ],
   "source": [
    "df.show(10)"
   ]
  },
  {
   "cell_type": "code",
   "execution_count": 40,
   "id": "c28a9d92-2da3-46b6-baf4-8b03f492695b",
   "metadata": {},
   "outputs": [
    {
     "name": "stdout",
     "output_type": "stream",
     "text": [
      "+--------------------+--------------------+------+---+----------+-------+-------+--------+-----------+--------+------+-----+-----+\n",
      "|           Timestamp|                Name|   Sex|Age|    Ticket|   Fare|  Cabin|Embarked|PassengerId|Survived|Pclass|SibSp|Parch|\n",
      "+--------------------+--------------------+------+---+----------+-------+-------+--------+-----------+--------+------+-----+-----+\n",
      "|2020-01-01T13:43:...|Stead, Mr. Willia...|  male| 62|    113514|  26.55|    C87|       S|        253|       0|     1|    0|    0|\n",
      "|2020-01-01T13:30:...|Allison, Master. ...|  male|  0|    113781| 151.55|C22 C26|       S|        306|       1|     1|    1|    2|\n",
      "|2020-01-01T13:36:...|White, Mr. Richar...|  male| 21|     35281|77.2875|    D26|       S|        103|       0|     1|    0|    1|\n",
      "|2020-01-01T13:39:...|Lines, Miss. Mary...|female| 16|  PC 17592|   39.4|    D28|       S|        854|       1|     1|    0|    1|\n",
      "|2020-01-01T13:32:...|Davidson, Mr. Tho...|  male| 31|F.C. 12750|   52.0|    B71|       S|        672|       0|     1|    1|    0|\n",
      "|2020-01-01T13:33:...|Maioni, Miss. Rob...|female| 16|    110152|   86.5|    B79|       S|        505|       1|     1|    0|    0|\n",
      "|2020-01-01T13:41:...|Butt, Major. Arch...|  male| 45|    113050|  26.55|    B38|       S|        537|       0|     1|    0|    0|\n",
      "|2020-01-01T13:45:...|Cherry, Miss. Gladys|female| 30|    110152|   86.5|    B77|       S|        258|       1|     1|    0|    0|\n",
      "|2020-01-01T13:37:...|\"Flynn, Mr. John ...|  male| 36|  PC 17474|26.3875|    E25|       S|        573|       1|     1|    0|    0|\n",
      "|2020-01-01T13:40:...|Moen, Mr. Sigurd ...|  male| 25|    348123|   7.65|  F G73|       S|         76|       0|     3|    0|    0|\n",
      "+--------------------+--------------------+------+---+----------+-------+-------+--------+-----------+--------+------+-----+-----+\n",
      "only showing top 10 rows\n",
      "\n"
     ]
    }
   ],
   "source": [
    "df = df.na.drop(how = \"any\",subset = ['Cabin','Age','Embarked'])\n",
    "df.show(10)"
   ]
  },
  {
   "cell_type": "code",
   "execution_count": null,
   "id": "1e599ca9-cc6e-416d-b4e2-39eb754f9ebd",
   "metadata": {},
   "outputs": [],
   "source": [
    "df = df.drop('Pclass','SibSp','Parch')\n",
    "df.show(10)"
   ]
  },
  {
   "cell_type": "code",
   "execution_count": 34,
   "id": "58324dce-ea2c-4848-954e-bae4ada92fab",
   "metadata": {},
   "outputs": [],
   "source": [
    "df = df.withColumn(\"Age\", col(\"Age\").cast(DoubleType())) \\\n",
    "  .withColumn(\"Fare\", col(\"Fare\").cast(DoubleType()))"
   ]
  },
  {
   "cell_type": "code",
   "execution_count": 17,
   "id": "9c96a004-9d20-45b4-8514-dfc311ab6db3",
   "metadata": {},
   "outputs": [
    {
     "data": {
      "text/plain": [
       "DataFrame[Timestamp: string, Name: string, Sex: string, Age: double, Ticket: string, Fare: double, Cabin: string, Embarked: string, PassengerId: int, Survived: int]"
      ]
     },
     "execution_count": 17,
     "metadata": {},
     "output_type": "execute_result"
    }
   ],
   "source": [
    "df"
   ]
  },
  {
   "cell_type": "code",
   "execution_count": 18,
   "id": "4c02e70b-6c3d-4c9a-b221-88900138e5ef",
   "metadata": {},
   "outputs": [
    {
     "ename": "AnalysisException",
     "evalue": "path file:/home/jovyan/workspace/titanic.json already exists.",
     "output_type": "error",
     "traceback": [
      "\u001b[0;31m---------------------------------------------------------------------------\u001b[0m",
      "\u001b[0;31mAnalysisException\u001b[0m                         Traceback (most recent call last)",
      "Cell \u001b[0;32mIn[18], line 1\u001b[0m\n\u001b[0;32m----> 1\u001b[0m \u001b[43mdf\u001b[49m\u001b[38;5;241;43m.\u001b[39;49m\u001b[43mwrite\u001b[49m\u001b[38;5;241;43m.\u001b[39;49m\u001b[43mjson\u001b[49m\u001b[43m(\u001b[49m\u001b[38;5;124;43m\"\u001b[39;49m\u001b[38;5;124;43mtitanic.json\u001b[39;49m\u001b[38;5;124;43m\"\u001b[39;49m\u001b[43m)\u001b[49m\n",
      "File \u001b[0;32m/usr/local/spark/python/pyspark/sql/readwriter.py:1095\u001b[0m, in \u001b[0;36mDataFrameWriter.json\u001b[0;34m(self, path, mode, compression, dateFormat, timestampFormat, lineSep, encoding, ignoreNullFields)\u001b[0m\n\u001b[1;32m   1086\u001b[0m \u001b[38;5;28mself\u001b[39m\u001b[38;5;241m.\u001b[39mmode(mode)\n\u001b[1;32m   1087\u001b[0m \u001b[38;5;28mself\u001b[39m\u001b[38;5;241m.\u001b[39m_set_opts(\n\u001b[1;32m   1088\u001b[0m     compression\u001b[38;5;241m=\u001b[39mcompression,\n\u001b[1;32m   1089\u001b[0m     dateFormat\u001b[38;5;241m=\u001b[39mdateFormat,\n\u001b[0;32m   (...)\u001b[0m\n\u001b[1;32m   1093\u001b[0m     ignoreNullFields\u001b[38;5;241m=\u001b[39mignoreNullFields,\n\u001b[1;32m   1094\u001b[0m )\n\u001b[0;32m-> 1095\u001b[0m \u001b[38;5;28;43mself\u001b[39;49m\u001b[38;5;241;43m.\u001b[39;49m\u001b[43m_jwrite\u001b[49m\u001b[38;5;241;43m.\u001b[39;49m\u001b[43mjson\u001b[49m\u001b[43m(\u001b[49m\u001b[43mpath\u001b[49m\u001b[43m)\u001b[49m\n",
      "File \u001b[0;32m/usr/local/spark/python/lib/py4j-0.10.9.5-src.zip/py4j/java_gateway.py:1321\u001b[0m, in \u001b[0;36mJavaMember.__call__\u001b[0;34m(self, *args)\u001b[0m\n\u001b[1;32m   1315\u001b[0m command \u001b[38;5;241m=\u001b[39m proto\u001b[38;5;241m.\u001b[39mCALL_COMMAND_NAME \u001b[38;5;241m+\u001b[39m\\\n\u001b[1;32m   1316\u001b[0m     \u001b[38;5;28mself\u001b[39m\u001b[38;5;241m.\u001b[39mcommand_header \u001b[38;5;241m+\u001b[39m\\\n\u001b[1;32m   1317\u001b[0m     args_command \u001b[38;5;241m+\u001b[39m\\\n\u001b[1;32m   1318\u001b[0m     proto\u001b[38;5;241m.\u001b[39mEND_COMMAND_PART\n\u001b[1;32m   1320\u001b[0m answer \u001b[38;5;241m=\u001b[39m \u001b[38;5;28mself\u001b[39m\u001b[38;5;241m.\u001b[39mgateway_client\u001b[38;5;241m.\u001b[39msend_command(command)\n\u001b[0;32m-> 1321\u001b[0m return_value \u001b[38;5;241m=\u001b[39m \u001b[43mget_return_value\u001b[49m\u001b[43m(\u001b[49m\n\u001b[1;32m   1322\u001b[0m \u001b[43m    \u001b[49m\u001b[43manswer\u001b[49m\u001b[43m,\u001b[49m\u001b[43m \u001b[49m\u001b[38;5;28;43mself\u001b[39;49m\u001b[38;5;241;43m.\u001b[39;49m\u001b[43mgateway_client\u001b[49m\u001b[43m,\u001b[49m\u001b[43m \u001b[49m\u001b[38;5;28;43mself\u001b[39;49m\u001b[38;5;241;43m.\u001b[39;49m\u001b[43mtarget_id\u001b[49m\u001b[43m,\u001b[49m\u001b[43m \u001b[49m\u001b[38;5;28;43mself\u001b[39;49m\u001b[38;5;241;43m.\u001b[39;49m\u001b[43mname\u001b[49m\u001b[43m)\u001b[49m\n\u001b[1;32m   1324\u001b[0m \u001b[38;5;28;01mfor\u001b[39;00m temp_arg \u001b[38;5;129;01min\u001b[39;00m temp_args:\n\u001b[1;32m   1325\u001b[0m     temp_arg\u001b[38;5;241m.\u001b[39m_detach()\n",
      "File \u001b[0;32m/usr/local/spark/python/pyspark/sql/utils.py:196\u001b[0m, in \u001b[0;36mcapture_sql_exception.<locals>.deco\u001b[0;34m(*a, **kw)\u001b[0m\n\u001b[1;32m    192\u001b[0m converted \u001b[38;5;241m=\u001b[39m convert_exception(e\u001b[38;5;241m.\u001b[39mjava_exception)\n\u001b[1;32m    193\u001b[0m \u001b[38;5;28;01mif\u001b[39;00m \u001b[38;5;129;01mnot\u001b[39;00m \u001b[38;5;28misinstance\u001b[39m(converted, UnknownException):\n\u001b[1;32m    194\u001b[0m     \u001b[38;5;66;03m# Hide where the exception came from that shows a non-Pythonic\u001b[39;00m\n\u001b[1;32m    195\u001b[0m     \u001b[38;5;66;03m# JVM exception message.\u001b[39;00m\n\u001b[0;32m--> 196\u001b[0m     \u001b[38;5;28;01mraise\u001b[39;00m converted \u001b[38;5;28;01mfrom\u001b[39;00m \u001b[38;5;28mNone\u001b[39m\n\u001b[1;32m    197\u001b[0m \u001b[38;5;28;01melse\u001b[39;00m:\n\u001b[1;32m    198\u001b[0m     \u001b[38;5;28;01mraise\u001b[39;00m\n",
      "\u001b[0;31mAnalysisException\u001b[0m: path file:/home/jovyan/workspace/titanic.json already exists."
     ]
    }
   ],
   "source": [
    " df.write.json(\"titanic.json\")"
   ]
  },
  {
   "cell_type": "code",
   "execution_count": null,
   "id": "10085fc3",
   "metadata": {},
   "outputs": [],
   "source": []
  }
 ],
 "metadata": {
  "kernelspec": {
   "display_name": "Python 3 (ipykernel)",
   "language": "python",
   "name": "python3"
  },
  "language_info": {
   "codemirror_mode": {
    "name": "ipython",
    "version": 3
   },
   "file_extension": ".py",
   "mimetype": "text/x-python",
   "name": "python",
   "nbconvert_exporter": "python",
   "pygments_lexer": "ipython3",
   "version": "3.10.8"
  }
 },
 "nbformat": 4,
 "nbformat_minor": 5
}
